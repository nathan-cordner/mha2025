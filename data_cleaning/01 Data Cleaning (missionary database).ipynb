{
 "cells": [
  {
   "cell_type": "markdown",
   "id": "7cf50e79",
   "metadata": {},
   "source": [
    "## Data Cleaning:  LDS Missionary Database\n",
    "\n",
    "Data gathered from https://history.churchofjesuschrist.org/chd/search?tabFacet=people&tabSubfacet=missionaries&lang=eng\n",
    "* Filtering for missionaries (~46,942 pages currently listed)\n",
    "* Features extracted:  missionary name, mission name, departure year, mission type, missionary residence before departure)\n",
    "* Missionary name may show up mulitple times (once per mission served)\n",
    "\n"
   ]
  },
  {
   "cell_type": "code",
   "execution_count": 1,
   "id": "a3e7d620",
   "metadata": {},
   "outputs": [],
   "source": [
    "import pandas as pd\n",
    "import matplotlib.pyplot as plt\n",
    "import seaborn as sns"
   ]
  },
  {
   "cell_type": "markdown",
   "id": "a5f4f1d3",
   "metadata": {},
   "source": [
    "### Import Data and Remove Duplicates\n",
    "\n",
    "The web scraper was run in stages, so the data set is spread across multiple files. We will first read in all files and combine them into a single data frame:\n",
    "* All files use the same headers, so we can employ `df.concat`\n",
    "* Special encoding used to match the CSV file \n"
   ]
  },
  {
   "cell_type": "code",
   "execution_count": 2,
   "id": "7d84db0f",
   "metadata": {},
   "outputs": [
    {
     "data": {
      "text/html": [
       "<div>\n",
       "<style scoped>\n",
       "    .dataframe tbody tr th:only-of-type {\n",
       "        vertical-align: middle;\n",
       "    }\n",
       "\n",
       "    .dataframe tbody tr th {\n",
       "        vertical-align: top;\n",
       "    }\n",
       "\n",
       "    .dataframe thead th {\n",
       "        text-align: right;\n",
       "    }\n",
       "</style>\n",
       "<table border=\"1\" class=\"dataframe\">\n",
       "  <thead>\n",
       "    <tr style=\"text-align: right;\">\n",
       "      <th></th>\n",
       "      <th>name</th>\n",
       "      <th>birth_place</th>\n",
       "      <th>mission</th>\n",
       "      <th>loc_served</th>\n",
       "      <th>year</th>\n",
       "      <th>type</th>\n",
       "      <th>residence</th>\n",
       "      <th>url</th>\n",
       "    </tr>\n",
       "  </thead>\n",
       "  <tbody>\n",
       "    <tr>\n",
       "      <th>0</th>\n",
       "      <td>Lyman Palmer Pinkston</td>\n",
       "      <td>Salt Lake City, Salt Lake, Utah</td>\n",
       "      <td>Central States Mission</td>\n",
       "      <td>Central States</td>\n",
       "      <td>1931</td>\n",
       "      <td>Proselytizing</td>\n",
       "      <td>Glendale, California</td>\n",
       "      <td>https://history.churchofjesuschrist.org/chd/in...</td>\n",
       "    </tr>\n",
       "    <tr>\n",
       "      <th>1</th>\n",
       "      <td>Nelson Daniel Russ</td>\n",
       "      <td>Alabama, Genesee, New York</td>\n",
       "      <td>Eastern States Mission</td>\n",
       "      <td>Eastern States</td>\n",
       "      <td>1898</td>\n",
       "      <td>Proselytizing</td>\n",
       "      <td>Wilford, Fremont, Idaho, United States</td>\n",
       "      <td>https://history.churchofjesuschrist.org/chd/in...</td>\n",
       "    </tr>\n",
       "    <tr>\n",
       "      <th>2</th>\n",
       "      <td>Preston Baxter Maughan</td>\n",
       "      <td>Wellsville, Cache, Utah</td>\n",
       "      <td>Northwestern States (Pacific) Mission</td>\n",
       "      <td>Northwestern States</td>\n",
       "      <td>1919</td>\n",
       "      <td>NaN</td>\n",
       "      <td>Wellsville, Cache, Utah, United States</td>\n",
       "      <td>https://history.churchofjesuschrist.org/chd/in...</td>\n",
       "    </tr>\n",
       "    <tr>\n",
       "      <th>3</th>\n",
       "      <td>Joseph Ezra Wood</td>\n",
       "      <td>Holden, Millard, Utah</td>\n",
       "      <td>British Mission</td>\n",
       "      <td>British</td>\n",
       "      <td>1912</td>\n",
       "      <td>NaN</td>\n",
       "      <td>Holden, Millard, Utah, United States</td>\n",
       "      <td>https://history.churchofjesuschrist.org/chd/in...</td>\n",
       "    </tr>\n",
       "    <tr>\n",
       "      <th>4</th>\n",
       "      <td>Jens Wilhelm Olsen</td>\n",
       "      <td>Asnas, Oshered, Denmark</td>\n",
       "      <td>Danish Mission</td>\n",
       "      <td>Danish</td>\n",
       "      <td>1935</td>\n",
       "      <td>NaN</td>\n",
       "      <td>United States</td>\n",
       "      <td>https://history.churchofjesuschrist.org/chd/in...</td>\n",
       "    </tr>\n",
       "  </tbody>\n",
       "</table>\n",
       "</div>"
      ],
      "text/plain": [
       "                     name                      birth_place  \\\n",
       "0   Lyman Palmer Pinkston  Salt Lake City, Salt Lake, Utah   \n",
       "1      Nelson Daniel Russ       Alabama, Genesee, New York   \n",
       "2  Preston Baxter Maughan          Wellsville, Cache, Utah   \n",
       "3        Joseph Ezra Wood            Holden, Millard, Utah   \n",
       "4      Jens Wilhelm Olsen          Asnas, Oshered, Denmark   \n",
       "\n",
       "                                 mission           loc_served  year  \\\n",
       "0                 Central States Mission       Central States  1931   \n",
       "1                 Eastern States Mission       Eastern States  1898   \n",
       "2  Northwestern States (Pacific) Mission  Northwestern States  1919   \n",
       "3                        British Mission              British  1912   \n",
       "4                         Danish Mission               Danish  1935   \n",
       "\n",
       "            type                               residence  \\\n",
       "0  Proselytizing                    Glendale, California   \n",
       "1  Proselytizing  Wilford, Fremont, Idaho, United States   \n",
       "2            NaN  Wellsville, Cache, Utah, United States   \n",
       "3            NaN    Holden, Millard, Utah, United States   \n",
       "4            NaN                           United States   \n",
       "\n",
       "                                                 url  \n",
       "0  https://history.churchofjesuschrist.org/chd/in...  \n",
       "1  https://history.churchofjesuschrist.org/chd/in...  \n",
       "2  https://history.churchofjesuschrist.org/chd/in...  \n",
       "3  https://history.churchofjesuschrist.org/chd/in...  \n",
       "4  https://history.churchofjesuschrist.org/chd/in...  "
      ]
     },
     "execution_count": 2,
     "metadata": {},
     "output_type": "execute_result"
    }
   ],
   "source": [
    "df = pd.read_csv(\"../data_collection/mission_info_new2.csv\", encoding=\"ISO-8859-1\")\n",
    "    \n",
    "df.head()"
   ]
  },
  {
   "cell_type": "markdown",
   "id": "d1c23fcb",
   "metadata": {},
   "source": [
    "### Dealing with Missing Values\n",
    "\n",
    "First we might want to see a distribution of missionary departures by year. We can start by converting years to integer types:"
   ]
  },
  {
   "cell_type": "code",
   "execution_count": 10,
   "id": "70f26314",
   "metadata": {},
   "outputs": [
    {
     "name": "stdout",
     "output_type": "stream",
     "text": [
      "<class 'pandas.core.frame.DataFrame'>\n",
      "RangeIndex: 53411 entries, 0 to 53410\n",
      "Data columns (total 8 columns):\n",
      " #   Column       Non-Null Count  Dtype \n",
      "---  ------       --------------  ----- \n",
      " 0   name         53411 non-null  object\n",
      " 1   birth_place  53179 non-null  object\n",
      " 2   mission      53411 non-null  object\n",
      " 3   loc_served   46698 non-null  object\n",
      " 4   year         53411 non-null  int64 \n",
      " 5   type         35153 non-null  object\n",
      " 6   residence    51171 non-null  object\n",
      " 7   url          53411 non-null  object\n",
      "dtypes: int64(1), object(7)\n",
      "memory usage: 3.3+ MB\n"
     ]
    }
   ],
   "source": [
    "df.info()"
   ]
  },
  {
   "cell_type": "code",
   "execution_count": 3,
   "id": "c0856377",
   "metadata": {},
   "outputs": [],
   "source": [
    "df[\"year\"] = df[\"year\"].apply(lambda x:  int(x))"
   ]
  },
  {
   "cell_type": "markdown",
   "id": "daf2d453",
   "metadata": {},
   "source": [
    "Oof, it looks like some entries in the `year` column aren't actually numeric. Let's print out the ones that aren't numeric to see what's going on:"
   ]
  },
  {
   "cell_type": "code",
   "execution_count": 5,
   "id": "73af9be1",
   "metadata": {},
   "outputs": [],
   "source": [
    "def is_int(x):\n",
    "    try:\n",
    "        int(x)\n",
    "        return True\n",
    "    except ValueError:\n",
    "        return False\n",
    "\n",
    "for i in range(len(df)):\n",
    "    if not is_int(df.iloc[i].year):\n",
    "        print(i, df.iloc[i]['name'], df.iloc[i].year)\n",
    "    "
   ]
  },
  {
   "cell_type": "markdown",
   "id": "ee592a30",
   "metadata": {},
   "source": [
    "The good news is that only a few entries have non-integer values. We could look up the missionaries online to see if there was a problem in data extraction. But since these are only a few out of over 50,000 entries, we can safely ignore them for our distribution plot:"
   ]
  },
  {
   "cell_type": "code",
   "execution_count": 6,
   "id": "0eb5c51f",
   "metadata": {},
   "outputs": [
    {
     "name": "stdout",
     "output_type": "stream",
     "text": [
      "53411\n"
     ]
    }
   ],
   "source": [
    "filter_col = df[\"year\"].apply(is_int)\n",
    "\n",
    "years_filter = df[filter_col]\n",
    "\n",
    "print(len(years_filter))\n"
   ]
  },
  {
   "cell_type": "code",
   "execution_count": 7,
   "id": "b715b07b",
   "metadata": {},
   "outputs": [
    {
     "name": "stdout",
     "output_type": "stream",
     "text": [
      "1830 1994\n"
     ]
    }
   ],
   "source": [
    "# convert data types now\n",
    "years_filter[\"year\"] = years_filter[\"year\"].apply(lambda x:  int(x))\n",
    "\n",
    "print(years_filter[\"year\"].min(), years_filter[\"year\"].max())"
   ]
  },
  {
   "cell_type": "code",
   "execution_count": 17,
   "id": "6cbe31a1",
   "metadata": {},
   "outputs": [
    {
     "data": {
      "image/png": "[encoded data removed]",
      "text/plain": [
       "<Figure size 640x480 with 1 Axes>"
      ]
     },
     "metadata": {},
     "output_type": "display_data"
    }
   ],
   "source": [
    "### Create distribution plot\n",
    "fig, ax = plt.subplots()\n",
    "sns.histplot(years_filter[\"year\"], bins=range(1830, 2000, 10), ax = ax)\n",
    "\n",
    "ax.spines[[\"left\", \"top\", \"right\"]].set_visible(False)\n",
    "\n",
    "ax.set_xlabel(\"\")\n",
    "ax.set_ylabel(\"\")\n",
    "\n",
    "ax.tick_params(axis=\"y\", length = 0)\n",
    "ax.grid(axis=\"y\", linestyle =\"--\")\n",
    "\n",
    "ax.set_title(\"Number of Missions by Decade\")\n",
    "\n",
    "xticks = list(range(1845, 1986, 20))\n",
    "xlabels = [str(i)+\"s\" for i in range(1840, 1981, 20)]\n",
    "\n",
    "ax.set_xticks(xticks, labels=xlabels)\n",
    "\n",
    "plt.show()"
   ]
  },
  {
   "cell_type": "code",
   "execution_count": 18,
   "id": "db1d8a02",
   "metadata": {},
   "outputs": [
    {
     "name": "stdout",
     "output_type": "stream",
     "text": [
      "48349\n"
     ]
    }
   ],
   "source": [
    "### filter by year\n",
    "\n",
    "years_trim = df[df[\"year\"] >= 1850]\n",
    "years_trim = years_trim[years_trim[\"year\"] <= 1940]\n",
    "\n",
    "print(len(years_trim))"
   ]
  },
  {
   "cell_type": "code",
   "execution_count": 21,
   "id": "74880a80",
   "metadata": {},
   "outputs": [],
   "source": [
    "years_trim.to_csv(\"missions_1850_to_1940.csv\", index = False)"
   ]
  }
 ],
 "metadata": {
  "kernelspec": {
   "display_name": "Python 3 (ipykernel)",
   "language": "python",
   "name": "python3"
  },
  "language_info": {
   "codemirror_mode": {
    "name": "ipython",
    "version": 3
   },
   "file_extension": ".py",
   "mimetype": "text/x-python",
   "name": "python",
   "nbconvert_exporter": "python",
   "pygments_lexer": "ipython3",
   "version": "3.11.4"
  }
 },
 "nbformat": 4,
 "nbformat_minor": 5
}
